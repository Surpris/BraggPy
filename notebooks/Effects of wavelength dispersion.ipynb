{
 "cells": [
  {
   "cell_type": "markdown",
   "metadata": {},
   "source": [
    "# Purpose\n",
    "To examine the effects of wavelength dispersion of incident beam"
   ]
  },
  {
   "cell_type": "code",
   "execution_count": null,
   "metadata": {
    "ExecuteTime": {
     "end_time": "2017-12-03T15:18:59.587147Z",
     "start_time": "2017-12-03T15:18:59.569973Z"
    },
    "collapsed": true
   },
   "outputs": [],
   "source": [
    "import numpy as np\n",
    "import matplotlib.pyplot as plt\n",
    "import BraggPy.braggpy as braggpy\n",
    "\n",
    "%matplotlib inline"
   ]
  },
  {
   "cell_type": "markdown",
   "metadata": {},
   "source": [
    "## Prepare base"
   ]
  },
  {
   "cell_type": "code",
   "execution_count": null,
   "metadata": {
    "ExecuteTime": {
     "end_time": "2017-12-03T15:19:00.570559Z",
     "start_time": "2017-12-03T15:19:00.561535Z"
    },
    "collapsed": true
   },
   "outputs": [],
   "source": [
    "a = 6.07\n",
    "R = 30\n",
    "ind_max = 20\n",
    "coors = braggpy.make_lattice_points(a, \"fcc\", ind_max=ind_max)\n",
    "coors = braggpy.isInside(coors, R, \"sphere\")"
   ]
  },
  {
   "cell_type": "code",
   "execution_count": null,
   "metadata": {
    "ExecuteTime": {
     "end_time": "2017-12-03T15:19:01.753395Z",
     "start_time": "2017-12-03T15:19:01.749384Z"
    },
    "collapsed": true
   },
   "outputs": [],
   "source": [
    "hv = 12.\n",
    "qmax = 3.5\n",
    "dq = 0.05\n",
    "\n",
    "res = braggpy.generate_momentum(hv, qmax, dq)"
   ]
  },
  {
   "cell_type": "code",
   "execution_count": null,
   "metadata": {
    "ExecuteTime": {
     "end_time": "2017-12-03T15:19:04.924356Z",
     "start_time": "2017-12-03T15:19:02.871542Z"
    },
    "collapsed": true
   },
   "outputs": [],
   "source": [
    "F = braggpy.calc_modulus(coors, res[\"qxx\"], res[\"qyy\"], res[\"qzz\"])"
   ]
  },
  {
   "cell_type": "code",
   "execution_count": null,
   "metadata": {
    "ExecuteTime": {
     "end_time": "2017-12-03T15:19:48.352421Z",
     "start_time": "2017-12-03T15:19:48.224224Z"
    }
   },
   "outputs": [],
   "source": [
    "fig = braggpy.plot_modulus(F, figsize=(4, 4))"
   ]
  },
  {
   "cell_type": "code",
   "execution_count": null,
   "metadata": {
    "collapsed": true
   },
   "outputs": [],
   "source": []
  }
 ],
 "metadata": {
  "kernelspec": {
   "display_name": "Python [default]",
   "language": "python",
   "name": "python3"
  },
  "language_info": {
   "codemirror_mode": {
    "name": "ipython",
    "version": 3
   },
   "file_extension": ".py",
   "mimetype": "text/x-python",
   "name": "python",
   "nbconvert_exporter": "python",
   "pygments_lexer": "ipython3",
   "version": "3.5.3"
  },
  "toc": {
   "nav_menu": {
    "height": "48px",
    "width": "252px"
   },
   "navigate_menu": true,
   "number_sections": true,
   "sideBar": true,
   "threshold": 4,
   "toc_cell": false,
   "toc_section_display": "block",
   "toc_window_display": false
  }
 },
 "nbformat": 4,
 "nbformat_minor": 2
}
