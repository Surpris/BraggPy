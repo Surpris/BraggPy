{
 "cells": [
  {
   "cell_type": "markdown",
   "metadata": {},
   "source": [
    "# Purpose\n",
    "To examine effects of nonparallel scattering: real scattering."
   ]
  },
  {
   "cell_type": "markdown",
   "metadata": {},
   "source": [
    "## Formalism\n",
    "Consider that a detector is $L$ distant from the center of a mono-atomic sample,\n",
    "and a photon is scattered by j-th atom at $\\vec{r}_j = (x_j, y_j, z_j)$ and raech an element at $\\vec{A} = (x, y, L)$ on the detector.   \n",
    "Its scattering vector is described as\n",
    "$$\n",
    "\\vec{k}_j = k_0(\\sin\\theta_j\\cos\\phi_j, \\sin\\theta_j\\sin\\phi_j, \\cos\\theta_j),\n",
    "$$\n",
    "where the scattering angle is given by the components of a relative vector $(X_j, Y_j, Z_j) = \\vec{A} - \\vec{r}_j$:\n",
    "$$\n",
    "\\tan\\theta_j = \\frac{\\sqrt{X_j^2 + Y_j^2}}{Z_j},\\ \\tan\\phi_j = \\frac{Y_j}{X_j}.\n",
    "$$\n",
    "Its momentum transfer is defined by the relative vector of $\\vec{k}_j$ to the incident vector $\\vec{k}_0 = (0, 0, k_0)$:\n",
    "$$\n",
    "\\vec{q}_j = \\vec{k}_j - \\vec{k}_0.\n",
    "$$\n",
    "Considered from the general theory of scattering, the scattering amplitude of the sample \n",
    "at the position of $\\vec{A}$, $F(x, y, z=L)$, can be calculated by sum of exponentials with the phase of \"$-\\vec{q}_j\\cdot\\vec{r}_j$\".   \n",
    "Therefore,\n",
    "$$\n",
    "F(x, y) = \\sum_j \\exp(-i\\vec{q}_j\\cdot\\vec{r}_j).\n",
    "$$\n",
    "If the assumption that each scattered photons reach the decetector in parallel is valid, \n",
    "then $\\vec{q}_j$ for all $j$ are equal to that of the center of the sample, $\\vec{q}_c$, given by the following:"
   ]
  },
  {
   "cell_type": "markdown",
   "metadata": {},
   "source": [
    "## Procedure of calculation\n",
    "1. Give the coordinate of an element on the detector $\\vec{A}$.\n",
    "1. Calculate $\\vec{q}_j$ for all $j$.\n",
    "1. Sum up $\\exp(-i\\vec{q}_j\\cdot\\vec{r}_j)$ with respect to $j$, and it gives the scattering amplitude at $\\vec{A}$.\n",
    "1. Change the element and follow the above procedure."
   ]
  },
  {
   "cell_type": "code",
   "execution_count": null,
   "metadata": {
    "collapsed": true
   },
   "outputs": [],
   "source": []
  }
 ],
 "metadata": {
  "kernelspec": {
   "display_name": "Python [default]",
   "language": "python",
   "name": "python3"
  },
  "language_info": {
   "codemirror_mode": {
    "name": "ipython",
    "version": 3
   },
   "file_extension": ".py",
   "mimetype": "text/x-python",
   "name": "python",
   "nbconvert_exporter": "python",
   "pygments_lexer": "ipython3",
   "version": "3.5.3"
  },
  "toc": {
   "nav_menu": {
    "height": "66px",
    "width": "252px"
   },
   "navigate_menu": true,
   "number_sections": true,
   "sideBar": true,
   "threshold": 4,
   "toc_cell": false,
   "toc_section_display": "block",
   "toc_window_display": false
  }
 },
 "nbformat": 4,
 "nbformat_minor": 2
}
