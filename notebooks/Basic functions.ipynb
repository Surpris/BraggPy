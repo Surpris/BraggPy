{
 "cells": [
  {
   "cell_type": "markdown",
   "metadata": {},
   "source": [
    "# Purpose\n",
    "define basic functions"
   ]
  },
  {
   "cell_type": "code",
   "execution_count": null,
   "metadata": {
    "ExecuteTime": {
     "end_time": "2017-12-03T13:42:41.144514Z",
     "start_time": "2017-12-03T13:42:41.120461Z"
    },
    "collapsed": true
   },
   "outputs": [],
   "source": [
    "import numpy as np\n",
    "import matplotlib.pyplot as plt\n",
    "from mpl_toolkits.mplot3d import Axes3D\n",
    "from matplotlib.colors import LogNorm\n",
    "import BraggPy.braggpy as braggpy\n",
    "\n",
    "%matplotlib inline"
   ]
  },
  {
   "cell_type": "markdown",
   "metadata": {},
   "source": [
    "## make lattice points"
   ]
  },
  {
   "cell_type": "code",
   "execution_count": null,
   "metadata": {
    "ExecuteTime": {
     "end_time": "2017-12-03T13:47:15.043302Z",
     "start_time": "2017-12-03T13:47:15.039292Z"
    },
    "collapsed": true
   },
   "outputs": [],
   "source": [
    "d = 6.0\n",
    "lattice_type = \"fcc\"\n",
    "ind_max = 10\n",
    "coors_origin = braggpy.make_lattice_points(d, lattice_type=lattice_type, ind_min=-ind_max, ind_max=ind_max)"
   ]
  },
  {
   "cell_type": "code",
   "execution_count": null,
   "metadata": {
    "ExecuteTime": {
     "end_time": "2017-12-03T13:47:17.164792Z",
     "start_time": "2017-12-03T13:47:16.189521Z"
    }
   },
   "outputs": [],
   "source": [
    "fig = plt.figure(figsize=(6, 5))\n",
    "ax = fig.add_subplot(111, projection=\"3d\")\n",
    "ax.scatter3D(coors_origin[:,0], coors_origin[:,1], coors_origin[:,2], color=\"aqua\", edgecolor=\"k\", alpha=0.5)\n",
    "ax.set_xlabel(r\"x ($\\AA$)\", fontsize=14)\n",
    "ax.set_ylabel(r\"y ($\\AA$)\", fontsize=14)\n",
    "ax.set_zlabel(r\"z ($\\AA$)\", fontsize=14)"
   ]
  },
  {
   "cell_type": "markdown",
   "metadata": {},
   "source": [
    "## inside some shapes"
   ]
  },
  {
   "cell_type": "code",
   "execution_count": null,
   "metadata": {
    "ExecuteTime": {
     "end_time": "2017-12-03T13:48:21.940328Z",
     "start_time": "2017-12-03T13:48:21.937346Z"
    }
   },
   "outputs": [],
   "source": [
    "shape_name = \"sphere\"\n",
    "R = 20.\n",
    "coor_inside = braggpy.isInside(coors_origin, R, shape_name)"
   ]
  },
  {
   "cell_type": "code",
   "execution_count": null,
   "metadata": {
    "ExecuteTime": {
     "end_time": "2017-12-03T13:48:22.881423Z",
     "start_time": "2017-12-03T13:48:22.645109Z"
    }
   },
   "outputs": [],
   "source": [
    "fig = plt.figure(figsize=(6, 5))\n",
    "ax = fig.add_subplot(111, projection=\"3d\")\n",
    "ax.scatter3D(coor_inside[:,0], coor_inside[:,1], coor_inside[:,2], color=\"aqua\", edgecolor=\"k\", alpha=0.5)\n",
    "ax.set_xlabel(r\"x ($\\AA$)\", fontsize=14)\n",
    "ax.set_ylabel(r\"y ($\\AA$)\", fontsize=14)\n",
    "ax.set_zlabel(r\"z ($\\AA$)\", fontsize=14)"
   ]
  },
  {
   "cell_type": "markdown",
   "metadata": {},
   "source": [
    "## Euler rotation"
   ]
  },
  {
   "cell_type": "code",
   "execution_count": null,
   "metadata": {
    "ExecuteTime": {
     "end_time": "2017-12-03T13:02:07.982261Z",
     "start_time": "2017-12-03T13:02:07.979254Z"
    },
    "collapsed": true
   },
   "outputs": [],
   "source": [
    "euler = [45, 60., 0.]\n",
    "coors_euler = braggpy.EulerRotation(coors_origin, euler, 1)"
   ]
  },
  {
   "cell_type": "code",
   "execution_count": null,
   "metadata": {
    "ExecuteTime": {
     "end_time": "2017-12-03T13:02:08.972416Z",
     "start_time": "2017-12-03T13:02:08.229920Z"
    }
   },
   "outputs": [],
   "source": [
    "fig = plt.figure(figsize=(6, 5))\n",
    "ax = fig.add_subplot(111, projection=\"3d\")\n",
    "ax.scatter3D(coors_euler[:,0], coors_euler[:,1], coors_euler[:,2], color=\"aqua\", edgecolor=\"k\", alpha=0.5)\n",
    "ax.set_xlabel(r\"x ($\\AA$)\", fontsize=14)\n",
    "ax.set_ylabel(r\"y ($\\AA$)\", fontsize=14)\n",
    "ax.set_zlabel(r\"z ($\\AA$)\", fontsize=14)"
   ]
  },
  {
   "cell_type": "markdown",
   "metadata": {},
   "source": [
    "## Momentum space"
   ]
  },
  {
   "cell_type": "code",
   "execution_count": null,
   "metadata": {
    "ExecuteTime": {
     "end_time": "2017-12-03T13:50:08.284949Z",
     "start_time": "2017-12-03T13:50:08.281941Z"
    },
    "collapsed": true
   },
   "outputs": [],
   "source": [
    "hv = 12. # [keV]\n",
    "qmax = 3.5\n",
    "dq = 0.05\n",
    "res = braggpy.generate_momentum(hv, qmax, dq)"
   ]
  },
  {
   "cell_type": "code",
   "execution_count": null,
   "metadata": {
    "ExecuteTime": {
     "end_time": "2017-12-03T13:50:09.389308Z",
     "start_time": "2017-12-03T13:50:09.199913Z"
    }
   },
   "outputs": [],
   "source": [
    "plt.figure(figsize=(6,5))\n",
    "plt.imshow(res[\"qzz\"])\n",
    "plt.colorbar()"
   ]
  },
  {
   "cell_type": "markdown",
   "metadata": {},
   "source": [
    "## calculate modulus"
   ]
  },
  {
   "cell_type": "code",
   "execution_count": null,
   "metadata": {
    "ExecuteTime": {
     "end_time": "2017-12-03T13:50:13.015137Z",
     "start_time": "2017-12-03T13:50:12.384296Z"
    },
    "collapsed": true
   },
   "outputs": [],
   "source": [
    "F = braggpy.calc_modulus(coor_inside, res[\"qxx\"], res[\"qyy\"], res[\"qzz\"])"
   ]
  },
  {
   "cell_type": "code",
   "execution_count": null,
   "metadata": {
    "ExecuteTime": {
     "end_time": "2017-12-03T13:50:14.282445Z",
     "start_time": "2017-12-03T13:50:14.151723Z"
    }
   },
   "outputs": [],
   "source": [
    "plt.figure(figsize=(6,5))\n",
    "plt.imshow(np.abs(F))"
   ]
  },
  {
   "cell_type": "code",
   "execution_count": null,
   "metadata": {
    "collapsed": true
   },
   "outputs": [],
   "source": []
  }
 ],
 "metadata": {
  "kernelspec": {
   "display_name": "Python [default]",
   "language": "python",
   "name": "python3"
  },
  "language_info": {
   "codemirror_mode": {
    "name": "ipython",
    "version": 3
   },
   "file_extension": ".py",
   "mimetype": "text/x-python",
   "name": "python",
   "nbconvert_exporter": "python",
   "pygments_lexer": "ipython3",
   "version": "3.5.3"
  },
  "toc": {
   "nav_menu": {
    "height": "84px",
    "width": "252px"
   },
   "navigate_menu": true,
   "number_sections": true,
   "sideBar": true,
   "threshold": 4,
   "toc_cell": false,
   "toc_section_display": "block",
   "toc_window_display": false
  }
 },
 "nbformat": 4,
 "nbformat_minor": 2
}
