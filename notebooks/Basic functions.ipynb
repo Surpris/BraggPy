{
 "cells": [
  {
   "cell_type": "markdown",
   "metadata": {},
   "source": [
    "# Purpose\n",
    "define basic functions"
   ]
  },
  {
   "cell_type": "code",
   "execution_count": null,
   "metadata": {},
   "outputs": [],
   "source": [
    "%pip install -q --force-reinstall git+https://github.com/Surpris/BraggPy.git"
   ]
  },
  {
   "cell_type": "code",
   "execution_count": null,
   "metadata": {
    "ExecuteTime": {
     "end_time": "2017-12-03T13:42:41.144514Z",
     "start_time": "2017-12-03T13:42:41.120461Z"
    },
    "collapsed": true
   },
   "outputs": [],
   "source": [
    "import numpy as np\n",
    "import matplotlib.pyplot as plt\n",
    "from mpl_toolkits.mplot3d import Axes3D\n",
    "from matplotlib.colors import LogNorm\n",
    "import braggpy\n",
    "\n",
    "%matplotlib inline"
   ]
  },
  {
   "cell_type": "markdown",
   "metadata": {},
   "source": [
    "## make lattice points"
   ]
  },
  {
   "cell_type": "code",
   "execution_count": null,
   "metadata": {
    "ExecuteTime": {
     "end_time": "2017-12-03T13:47:15.043302Z",
     "start_time": "2017-12-03T13:47:15.039292Z"
    },
    "collapsed": true
   },
   "outputs": [],
   "source": [
    "d = 6.0  # $\\AA$\n",
    "lattice_type = \"fcc\"\n",
    "ind_max = 10\n",
    "coors_origin = braggpy.make_lattice_points(d, lattice_type=lattice_type, ind_min=-ind_max, ind_max=ind_max)"
   ]
  },
  {
   "cell_type": "code",
   "execution_count": null,
   "metadata": {
    "ExecuteTime": {
     "end_time": "2017-12-03T13:47:17.164792Z",
     "start_time": "2017-12-03T13:47:16.189521Z"
    }
   },
   "outputs": [],
   "source": [
    "fig = plt.figure(figsize=(6, 5))\n",
    "ax = fig.add_subplot(111, projection=\"3d\")\n",
    "ax.scatter3D(coors_origin[:,0], coors_origin[:,1], coors_origin[:,2], color=\"aqua\", edgecolor=\"k\", alpha=0.5)\n",
    "ax.set_xlabel(r\"x ($\\AA$)\", fontsize=14)\n",
    "ax.set_ylabel(r\"y ($\\AA$)\", fontsize=14)\n",
    "ax.set_zlabel(r\"z ($\\AA$)\", fontsize=14)"
   ]
  },
  {
   "cell_type": "markdown",
   "metadata": {},
   "source": [
    "## choose coordinates inside some shapes"
   ]
  },
  {
   "cell_type": "code",
   "execution_count": null,
   "metadata": {
    "ExecuteTime": {
     "end_time": "2017-12-03T13:48:21.940328Z",
     "start_time": "2017-12-03T13:48:21.937346Z"
    }
   },
   "outputs": [],
   "source": [
    "shape_name = \"sphere\"\n",
    "R = 30.\n",
    "coor_inside = braggpy.is_inside(coors_origin, R, shape_name)"
   ]
  },
  {
   "cell_type": "code",
   "execution_count": null,
   "metadata": {
    "ExecuteTime": {
     "end_time": "2017-12-03T13:48:22.881423Z",
     "start_time": "2017-12-03T13:48:22.645109Z"
    }
   },
   "outputs": [],
   "source": [
    "fig = plt.figure(figsize=(6, 5))\n",
    "ax = fig.add_subplot(111, projection=\"3d\")\n",
    "ax.scatter3D(\n",
    "    coor_inside[:,0], coor_inside[:,1], coor_inside[:,2],\n",
    "    color=\"aqua\", edgecolor=\"k\", alpha=0.5\n",
    ")\n",
    "ax.set_xlabel(r\"x ($\\AA$)\", fontsize=14)\n",
    "ax.set_ylabel(r\"y ($\\AA$)\", fontsize=14)\n",
    "ax.set_zlabel(r\"z ($\\AA$)\", fontsize=14)"
   ]
  },
  {
   "cell_type": "markdown",
   "metadata": {},
   "source": [
    "## generate momentum coordinates"
   ]
  },
  {
   "cell_type": "code",
   "execution_count": null,
   "metadata": {
    "ExecuteTime": {
     "end_time": "2017-12-03T13:50:08.284949Z",
     "start_time": "2017-12-03T13:50:08.281941Z"
    },
    "collapsed": true
   },
   "outputs": [],
   "source": [
    "hv = 12.  # [keV]\n",
    "qmax = 3.5\n",
    "dq = 0.05\n",
    "\n",
    "res = braggpy.generate_momentum(hv, qmax, dq)"
   ]
  },
  {
   "cell_type": "code",
   "execution_count": null,
   "metadata": {
    "ExecuteTime": {
     "end_time": "2017-12-03T13:50:09.389308Z",
     "start_time": "2017-12-03T13:50:09.199913Z"
    }
   },
   "outputs": [],
   "source": [
    "extent = [\n",
    "    res[\"qmin\"] - res[\"dqx\"] / 2.0, res[\"qmax\"] + res[\"dqx\"] / 2.0,\n",
    "    res[\"qmin\"] - res[\"dqy\"] / 2.0, res[\"qmax\"] + res[\"dqy\"] / 2.0\n",
    "]  # (left, right, bottom, top)\n",
    "\n",
    "plt.figure(figsize=(6,5))\n",
    "plt.imshow(res[\"qzz\"], origin=\"lower\", extent=extent)\n",
    "plt.colorbar()\n",
    "plt.xlabel(\"$q_x (1/\\AA$)\")\n",
    "plt.ylabel(\"$q_y (1/\\AA$)\")"
   ]
  },
  {
   "cell_type": "markdown",
   "metadata": {},
   "source": [
    "## euler rotation"
   ]
  },
  {
   "cell_type": "code",
   "execution_count": null,
   "metadata": {},
   "outputs": [],
   "source": [
    "miller_idx = [1, 1, 1]\n",
    "\n",
    "euler = np.rad2deg(braggpy.calc_euler_hkl(d, 2.*np.pi/res[\"wavelength\"], *miller_idx))\n",
    "euler"
   ]
  },
  {
   "cell_type": "code",
   "execution_count": null,
   "metadata": {
    "ExecuteTime": {
     "end_time": "2017-12-03T13:02:07.982261Z",
     "start_time": "2017-12-03T13:02:07.979254Z"
    },
    "collapsed": true
   },
   "outputs": [],
   "source": [
    "# euler = [45, 60., 0.]\n",
    "\n",
    "coors_euler = braggpy.euler_rotate(coors_origin, euler, 1)\n",
    "coor_inside = braggpy.is_inside(coors_euler, R, shape_name)"
   ]
  },
  {
   "cell_type": "code",
   "execution_count": null,
   "metadata": {
    "ExecuteTime": {
     "end_time": "2017-12-03T13:02:08.972416Z",
     "start_time": "2017-12-03T13:02:08.229920Z"
    }
   },
   "outputs": [],
   "source": [
    "fig = plt.figure(figsize=(12, 5))\n",
    "\n",
    "# Original atoms\n",
    "ax = fig.add_subplot(121, projection=\"3d\")\n",
    "ax.scatter3D(\n",
    "    coors_euler[:,0], coors_euler[:,1], coors_euler[:,2],\n",
    "    color=\"aqua\", edgecolor=\"k\", alpha=0.5\n",
    ")\n",
    "ax.set_xlabel(r\"x ($\\AA$)\", fontsize=14)\n",
    "ax.set_ylabel(r\"y ($\\AA$)\", fontsize=14)\n",
    "ax.set_zlabel(r\"z ($\\AA$)\", fontsize=14)\n",
    "\n",
    "# atoms in a sphere\n",
    "ax = fig.add_subplot(122, projection=\"3d\")\n",
    "ax.scatter3D(\n",
    "    coor_inside[:,0], coor_inside[:,1], coor_inside[:,2],\n",
    "    color=\"aqua\", edgecolor=\"k\", alpha=0.5\n",
    ")\n",
    "ax.set_xlabel(r\"x ($\\AA$)\", fontsize=14)\n",
    "ax.set_ylabel(r\"y ($\\AA$)\", fontsize=14)\n",
    "ax.set_zlabel(r\"z ($\\AA$)\", fontsize=14)"
   ]
  },
  {
   "cell_type": "markdown",
   "metadata": {},
   "source": [
    "## calculate modulus"
   ]
  },
  {
   "cell_type": "code",
   "execution_count": null,
   "metadata": {
    "ExecuteTime": {
     "end_time": "2017-12-03T13:50:13.015137Z",
     "start_time": "2017-12-03T13:50:12.384296Z"
    },
    "collapsed": true
   },
   "outputs": [],
   "source": [
    "F = braggpy.calc_modulus(coor_inside, res[\"qxx\"], res[\"qyy\"], res[\"qzz\"])"
   ]
  },
  {
   "cell_type": "code",
   "execution_count": null,
   "metadata": {},
   "outputs": [],
   "source": [
    "d_lattice = braggpy.calculate_lattice_distance(d, *miller_idx)\n",
    "q_spot = 2. * np.pi / d_lattice"
   ]
  },
  {
   "cell_type": "code",
   "execution_count": null,
   "metadata": {
    "ExecuteTime": {
     "end_time": "2017-12-03T13:50:14.282445Z",
     "start_time": "2017-12-03T13:50:14.151723Z"
    }
   },
   "outputs": [],
   "source": [
    "extent = [\n",
    "    res[\"qmin\"] - res[\"dqx\"] / 2.0, res[\"qmax\"] + res[\"dqx\"] / 2.0,\n",
    "    res[\"qmin\"] - res[\"dqy\"] / 2.0, res[\"qmax\"] + res[\"dqy\"] / 2.0\n",
    "]  # (left, right, bottom, top)\n",
    "\n",
    "# show the modulus\n",
    "plt.figure(figsize=(6,5))\n",
    "plt.imshow(np.abs(F), origin=\"lower\", extent=extent)\n",
    "\n",
    "plt.xlabel(\"$q_x (1/\\AA$)\")\n",
    "plt.ylabel(\"$q_y (1/\\AA$)\")\n",
    "\n",
    "# plot a circle with a radius of q_spot\n",
    "\n",
    "theta = np.arange(0., 2.*np.pi, np.pi/100) \n",
    "plt.plot(q_spot * np.sin(theta), q_spot * np.cos(theta), \"-\")"
   ]
  },
  {
   "cell_type": "code",
   "execution_count": null,
   "metadata": {
    "collapsed": true
   },
   "outputs": [],
   "source": []
  }
 ],
 "metadata": {
  "kernelspec": {
   "display_name": "Python [default]",
   "language": "python",
   "name": "python3"
  },
  "language_info": {
   "codemirror_mode": {
    "name": "ipython",
    "version": 3
   },
   "file_extension": ".py",
   "mimetype": "text/x-python",
   "name": "python",
   "nbconvert_exporter": "python",
   "pygments_lexer": "ipython3",
   "version": "3.10.8"
  },
  "toc": {
   "nav_menu": {
    "height": "84px",
    "width": "252px"
   },
   "navigate_menu": true,
   "number_sections": true,
   "sideBar": true,
   "threshold": 4,
   "toc_cell": false,
   "toc_section_display": "block",
   "toc_window_display": false
  }
 },
 "nbformat": 4,
 "nbformat_minor": 2
}
